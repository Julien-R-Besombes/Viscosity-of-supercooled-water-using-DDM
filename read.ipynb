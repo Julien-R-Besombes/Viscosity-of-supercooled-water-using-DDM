{
 "cells": [
  {
   "cell_type": "markdown",
   "metadata": {},
   "source": [
    "# Lecture des fichiers"
   ]
  },
  {
   "cell_type": "markdown",
   "metadata": {},
   "source": [
    "## Importation des librairies"
   ]
  },
  {
   "cell_type": "code",
   "execution_count": null,
   "metadata": {},
   "outputs": [],
   "source": [
    "import numpy as np\n",
    "import matplotlib.pyplot as plt\n",
    "from tqdm import tqdm\n",
    "from fastddm.fit import simple_structure_function, fit\n",
    "from fastddm.azimuthalaverage import AAReader"
   ]
  },
  {
   "cell_type": "markdown",
   "metadata": {},
   "source": [
    "## Définition de la vidéo à lire"
   ]
  },
  {
   "cell_type": "code",
   "execution_count": null,
   "metadata": {},
   "outputs": [],
   "source": [
    "video = 25 \n",
    "date=\"data/2025-02-25/\"\n",
    "size=512\n",
    "filename = date+\"extracted/resized_size\"+str(size)+\"_\"+str(video)+\".aa.ddm\""
   ]
  },
  {
   "cell_type": "markdown",
   "metadata": {},
   "source": [
    "## Lecture"
   ]
  },
  {
   "cell_type": "code",
   "execution_count": null,
   "metadata": {},
   "outputs": [],
   "source": [
    "r = AAReader(filename)\n",
    "aa = r.load()\n",
    "q = aa.k\n",
    "time = aa.tau"
   ]
  },
  {
   "cell_type": "code",
   "execution_count": null,
   "metadata": {},
   "outputs": [],
   "source": [
    "type(aa)"
   ]
  },
  {
   "cell_type": "code",
   "execution_count": null,
   "metadata": {},
   "outputs": [],
   "source": [
    "q.shape"
   ]
  },
  {
   "cell_type": "code",
   "execution_count": null,
   "metadata": {},
   "outputs": [],
   "source": [
    "time.shape"
   ]
  },
  {
   "cell_type": "code",
   "execution_count": null,
   "metadata": {},
   "outputs": [],
   "source": [
    "aa.data.shape"
   ]
  },
  {
   "cell_type": "markdown",
   "metadata": {},
   "source": [
    "## Définition des normes de vecteurs d'onde à afficher"
   ]
  },
  {
   "cell_type": "code",
   "execution_count": null,
   "metadata": {},
   "outputs": [],
   "source": [
    "test_k = np.array([20, 30, 80, 90, 100], dtype=np.int64)"
   ]
  },
  {
   "cell_type": "code",
   "execution_count": null,
   "metadata": {},
   "outputs": [],
   "source": [
    "q[test_k]"
   ]
  },
  {
   "cell_type": "markdown",
   "metadata": {},
   "source": [
    "## Affichage"
   ]
  },
  {
   "cell_type": "code",
   "execution_count": null,
   "metadata": {},
   "outputs": [],
   "source": [
    "for tk in tqdm(test_k):    \n",
    "    plt.scatter(time, aa.data[tk]/np.max(aa.data[tk]), marker=\"o\", s=3, label=\"$q={:.3f}\\ [\\mu m^{{-1}}]$\".format(q[tk]))\n",
    "plt.xscale('log')\n",
    "plt.yscale('log')\n",
    "plt.xlabel(\"$\\Delta t\\ [s]$\")\n",
    "plt.ylabel(r\"$\\frac{\\langle|\\Delta I(q,\\Delta t)|^2 \\rangle}{\\max_{\\Delta t}\\langle|\\Delta I(q,\\Delta t)|^2 \\rangle}$\")\n",
    "plt.title(\"Fonction de décorrélation normalisée (log-log)\")\n",
    "plt.legend()"
   ]
  },
  {
   "cell_type": "code",
   "execution_count": null,
   "metadata": {},
   "outputs": [],
   "source": [
    "for tk in tqdm(test_k):    \n",
    "    plt.scatter(time, aa.data[tk]/np.max(aa.data[tk]), marker=\"o\", s=3, label=\"$q={:.3f}\\ [\\mu m^{{-1}}]$\".format(q[tk]))\n",
    "plt.xlabel(\"$\\Delta t\\ [s]$\")\n",
    "plt.ylabel(r\"$\\frac{\\langle|\\Delta I(q,\\Delta t)|^2 \\rangle}{\\max_{\\Delta t}\\langle|\\Delta I(q,\\Delta t)|^2 \\rangle}$\")\n",
    "plt.title(\"Fonction de décorrélation (lin-lin)\")\n",
    "plt.legend()"
   ]
  },
  {
   "cell_type": "markdown",
   "metadata": {},
   "source": [
    "## Fit de quelques valeurs"
   ]
  },
  {
   "cell_type": "code",
   "execution_count": null,
   "metadata": {},
   "outputs": [],
   "source": [
    "simple_structure_function.set_param_hint(\"B\", min=-np.inf, max=np.inf, value=0.0)\n",
    "fit_time = np.logspace(-2, 0.7)\n",
    "labelstr = r\"$A = {A:.2f},\\ B = {B:.2f},\\ \\tau = {tau:.2f}s$\"\n",
    "weights = 1/np.sqrt(aa.tau)"
   ]
  },
  {
   "cell_type": "code",
   "execution_count": null,
   "metadata": {},
   "outputs": [],
   "source": [
    "fig = plt.figure(figsize=(9, 6))\n",
    "val = {}\n",
    "for tk in tqdm(test_k):\n",
    "    # fit for the given fixed index/k\n",
    "    result = fit(simple_structure_function, xdata=aa.tau, ydata=aa.data[tk]/np.max(aa.data[tk]), weights=weights)\n",
    "    val[tk]=result.best_values\n",
    "    \n",
    "    # plot original data\n",
    "    plt.scatter(aa.tau, aa.data[tk]/np.max(aa.data[tk]), marker=\"o\", s=6, \n",
    "                label=\"$q={:.3f}\\ [\\mu m^{{-1}}]$\".format(q[tk]))\n",
    "    \n",
    "    # and the fit\n",
    "    plt.plot(fit_time, simple_structure_function.eval(**result.best_values, dt=fit_time), linestyle=\"--\", linewidth=0.8, label=labelstr.format(**result.best_values))\n",
    "\n",
    "plt.xlabel(\"$\\Delta t\\ [s]$\")\n",
    "plt.ylabel(\"Fonction de décorrélation normalisée\")\n",
    "plt.title(\"Fonction de décorrélation normalisée fittée (lin-lin)\")\n",
    "plt.legend()"
   ]
  },
  {
   "cell_type": "code",
   "execution_count": null,
   "metadata": {},
   "outputs": [],
   "source": [
    "fig = plt.figure(figsize=(9, 6))\n",
    "for tk in tqdm(test_k):\n",
    "    plt.scatter(aa.tau, aa.data[tk]/np.max(aa.data[tk]), marker=\"o\", s=6, \n",
    "                label=\"$q={:.3f}\\ [\\mu m^{{-1}}]$\".format(q[tk]))\n",
    "\n",
    "    plt.plot(fit_time, simple_structure_function.eval(**val[tk], dt=fit_time), linestyle=\"--\", linewidth=0.8, label=labelstr.format(**val[tk]))\n",
    "plt.xscale(\"log\")\n",
    "plt.yscale(\"log\")\n",
    "plt.xlabel(\"$\\Delta t\\ [s]$\")\n",
    "plt.ylabel(\"Fonction de décorrélation normalisée\")\n",
    "plt.title(\"Fonction de décorrélation normalisée fittée (log-log)\")\n",
    "plt.legend()"
   ]
  },
  {
   "cell_type": "markdown",
   "metadata": {},
   "source": [
    "## Résidus"
   ]
  },
  {
   "cell_type": "code",
   "execution_count": null,
   "metadata": {},
   "outputs": [],
   "source": [
    "for tk in tqdm(test_k):    \n",
    "    # plot original data\n",
    "    plt.scatter(aa.tau, aa.data[tk]/np.max(aa.data[tk])-simple_structure_function.eval(**val[tk], dt=aa.tau), marker=\"o\", s=6, \n",
    "                label=\"$q={:.3f}\\ [\\mu m^{{-1}}]$\".format(q[tk]))\n",
    "   \n",
    "plt.xlabel(\"$\\Delta t\\ [s]$\")\n",
    "plt.ylabel(\"Fonction de décorrélation (résidus)\")\n",
    "plt.title(\"Fonction de décorrélation fittée (résidus)\")\n",
    "plt.legend()"
   ]
  },
  {
   "cell_type": "markdown",
   "metadata": {},
   "source": [
    "## Fit complet"
   ]
  },
  {
   "cell_type": "code",
   "execution_count": null,
   "metadata": {},
   "outputs": [],
   "source": [
    "q_index = [30,100]"
   ]
  },
  {
   "cell_type": "code",
   "execution_count": null,
   "metadata": {},
   "outputs": [],
   "source": [
    "tau = []\n",
    "for i in tqdm(range(*q_index)):\n",
    "    result = fit(simple_structure_function, xdata=aa.tau, ydata=aa.data[i]/np.max(aa.data[i]), weights=weights)\n",
    "    tau.append(result.best_values[\"tau\"])"
   ]
  },
  {
   "cell_type": "code",
   "execution_count": null,
   "metadata": {},
   "outputs": [],
   "source": [
    "x = q[q_index[0]:q_index[1]]\n",
    "y = tau\n",
    "x_th = np.linspace(np.min(x), np.max(x), 100)"
   ]
  },
  {
   "cell_type": "code",
   "execution_count": null,
   "metadata": {},
   "outputs": [],
   "source": [
    "x.shape"
   ]
  },
  {
   "cell_type": "code",
   "execution_count": null,
   "metadata": {},
   "outputs": [],
   "source": [
    "len(y)"
   ]
  },
  {
   "cell_type": "code",
   "execution_count": null,
   "metadata": {},
   "outputs": [],
   "source": [
    "y=np.array(y)\n",
    "x=np.array(x)\n",
    "x = x[y>1e-3]\n",
    "y=y[y>1e-3]\n"
   ]
  },
  {
   "cell_type": "code",
   "execution_count": null,
   "metadata": {},
   "outputs": [],
   "source": [
    "plt.xscale(\"log\")\n",
    "plt.yscale(\"log\")\n",
    "plt.scatter(x, y, marker='+', label=\"Données\", color='r')\n",
    "plt.xlabel(r\"$q (\\mu m)^{-1}$\")\n",
    "plt.ylabel(r\"$\\tau (s)$\")\n",
    "a, b = np.polyfit(np.log(x), np.log(y), 1)\n",
    "plt.plot(x_th, np.exp(a*np.log(x_th) + b), label=f\"Modèle $ax+b$ a = {a:.2f} et b = {b:.2f}\")\n",
    "plt.legend()"
   ]
  },
  {
   "cell_type": "markdown",
   "metadata": {},
   "source": [
    "## Résidus"
   ]
  },
  {
   "cell_type": "markdown",
   "metadata": {},
   "source": [
    "# Coefficient de diffusion"
   ]
  },
  {
   "cell_type": "code",
   "execution_count": null,
   "metadata": {},
   "outputs": [],
   "source": [
    "D = np.exp(-b)*1e-12 # en m2/s\n",
    "print(D)"
   ]
  },
  {
   "cell_type": "code",
   "execution_count": null,
   "metadata": {},
   "outputs": [],
   "source": [
    "T = 273.15 - 22"
   ]
  },
  {
   "cell_type": "code",
   "execution_count": null,
   "metadata": {},
   "outputs": [],
   "source": [
    "a = 345e-9/2"
   ]
  },
  {
   "cell_type": "code",
   "execution_count": null,
   "metadata": {},
   "outputs": [],
   "source": [
    "import scipy.constants as c"
   ]
  },
  {
   "cell_type": "code",
   "execution_count": null,
   "metadata": {},
   "outputs": [],
   "source": [
    "eta = c.Boltzmann*T/(6*np.pi*D*a)\n",
    "print(eta)\n"
   ]
  }
 ],
 "metadata": {
  "kernelspec": {
   "display_name": "Python 3",
   "language": "python",
   "name": "python3"
  },
  "language_info": {
   "codemirror_mode": {
    "name": "ipython",
    "version": 3
   },
   "file_extension": ".py",
   "mimetype": "text/x-python",
   "name": "python",
   "nbconvert_exporter": "python",
   "pygments_lexer": "ipython3",
   "version": "3.10.11"
  }
 },
 "nbformat": 4,
 "nbformat_minor": 2
}
